{
 "cells": [
  {
   "cell_type": "markdown",
   "metadata": {},
   "source": [
    "1.write a python program to read an entire text file.\n"
   ]
  },
  {
   "cell_type": "code",
   "execution_count": 1,
   "metadata": {},
   "outputs": [
    {
     "name": "stdout",
     "output_type": "stream",
     "text": [
      "Output of Read function is \n",
      "Hello \n",
      "This is Delhi \n",
      "This is Paris \n",
      "This is London \n",
      "\n",
      "\n"
     ]
    }
   ],
   "source": [
    "file1 = open(\"myfile.txt\",\"w\") \n",
    "L = [\"This is Delhi \\n\",\"This is Paris \\n\",\"This is London \\n\"] \n",
    "file1.write(\"Hello \\n\") \n",
    "file1.writelines(L) \n",
    "file1.close() #to change file access modes \n",
    "file1 = open(\"myfile.txt\",\"r+\")  \n",
    "print (\"Output of Read function is \")\n",
    "print(file1.read() )\n",
    "print()"
   ]
  },
  {
   "cell_type": "markdown",
   "metadata": {},
   "source": [
    "2.write a python program to read first n lines of a file?"
   ]
  },
  {
   "cell_type": "code",
   "execution_count": 4,
   "metadata": {},
   "outputs": [
    {
     "name": "stdout",
     "output_type": "stream",
     "text": [
      "enter the file name:myfile.txt\n",
      "Hello \n",
      "This is Delhi \n"
     ]
    }
   ],
   "source": [
    "def readfirst(a, n):\n",
    "        from itertools import islice \n",
    "        with open(a) as f:\n",
    "                for l in islice(f,n):   \n",
    "                       print(l,end ='')\n",
    "a=input(\"enter the file name:\")\n",
    "readfirst(a,2)"
   ]
  },
  {
   "cell_type": "markdown",
   "metadata": {},
   "source": [
    "3.write a python program to append text to a file and display the text?"
   ]
  },
  {
   "cell_type": "code",
   "execution_count": 5,
   "metadata": {},
   "outputs": [
    {
     "name": "stdout",
     "output_type": "stream",
     "text": [
      "Python Exercises\n",
      "Java Exercises\n"
     ]
    }
   ],
   "source": [
    "def read(a):\n",
    "        from itertools import islice\n",
    "        with open(a,\"w\") as file:\n",
    "                file.write(\"Python Exercises\\n\")\n",
    "                file.write(\"Java Exercises\")\n",
    "        txt = open(a)\n",
    "        print(txt.read())\n",
    "read('dad.txt')\n"
   ]
  },
  {
   "cell_type": "markdown",
   "metadata": {},
   "source": [
    "4.write a python program to read last n lines of a file?"
   ]
  },
  {
   "cell_type": "code",
   "execution_count": 6,
   "metadata": {},
   "outputs": [
    {
     "name": "stdout",
     "output_type": "stream",
     "text": [
      "enter the file name:myfile.txt\n",
      "no of last lines to read:1\n",
      "Last 1 lines from file: myfile.txt\n",
      "This is London \n"
     ]
    }
   ],
   "source": [
    "def LastNLines(f,n):\n",
    "    with open(f) as file:\n",
    "        print('Last',n,\"lines from file:\",f)\n",
    "        for line in (file.readlines() [-n:]):\n",
    "            print(line, end='')\n",
    "name=input(\"enter the file name:\" )\n",
    "n= int(input(\"no of last lines to read:\"))\n",
    "try:\n",
    "    LastNLines(name,n)\n",
    "except:\n",
    "    print(\"file error....\")"
   ]
  },
  {
   "cell_type": "markdown",
   "metadata": {},
   "source": [
    "5.write a python program to read a file line by line store it into a variable?"
   ]
  },
  {
   "cell_type": "code",
   "execution_count": 7,
   "metadata": {},
   "outputs": [
    {
     "name": "stdout",
     "output_type": "stream",
     "text": [
      "enter the file name:myfile.txt\n",
      "['Hello \\n', 'This is Delhi \\n', 'This is Paris \\n', 'This is London \\n']\n"
     ]
    }
   ],
   "source": [
    "def read(a):\n",
    "        with open (a) as file:\n",
    "                cse=file.readlines()\n",
    "                print(cse)\n",
    "a=input(\"enter the file name:\")\n",
    "read(a)"
   ]
  },
  {
   "cell_type": "markdown",
   "metadata": {},
   "source": [
    "6.write a python program to read a file line by line and store it into a list?\n"
   ]
  },
  {
   "cell_type": "code",
   "execution_count": 8,
   "metadata": {},
   "outputs": [
    {
     "name": "stdout",
     "output_type": "stream",
     "text": [
      "enter the file name:myfile.txt\n",
      "['Hello \\n', 'This is Delhi \\n', 'This is Paris \\n', 'This is London \\n']\n"
     ]
    }
   ],
   "source": [
    "def read(a):\n",
    "        with open(a) as file:     \n",
    "                list = file.readlines()\n",
    "                print(list)\n",
    "a=input(\"enter the file name:\")\n",
    "read(a)"
   ]
  }
 ],
 "metadata": {
  "kernelspec": {
   "display_name": "Python 3",
   "language": "python",
   "name": "python3"
  },
  "language_info": {
   "codemirror_mode": {
    "name": "ipython",
    "version": 3
   },
   "file_extension": ".py",
   "mimetype": "text/x-python",
   "name": "python",
   "nbconvert_exporter": "python",
   "pygments_lexer": "ipython3",
   "version": "3.7.6"
  }
 },
 "nbformat": 4,
 "nbformat_minor": 4
}
